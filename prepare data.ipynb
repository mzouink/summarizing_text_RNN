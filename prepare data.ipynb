{
 "cells": [
  {
   "cell_type": "markdown",
   "metadata": {},
   "source": [
    "#  Prepare data \n",
    "from https://catalog.ldc.upenn.edu/ldc2012t21"
   ]
  },
  {
   "cell_type": "markdown",
   "metadata": {},
   "source": [
    "## Import"
   ]
  },
  {
   "cell_type": "code",
   "execution_count": 74,
   "metadata": {
    "collapsed": false
   },
   "outputs": [],
   "source": [
    "import pickle\n",
    "import pandas as pd\n",
    "import os\n",
    "from tqdm import tqdm \n",
    "import numpy as np"
   ]
  },
  {
   "cell_type": "code",
   "execution_count": 75,
   "metadata": {
    "collapsed": false
   },
   "outputs": [],
   "source": [
    "# Paths\n",
    "root_dir = os.path.abspath('.')\n",
    "datasets_dir = os.path.join(root_dir,'data')\n",
    "oldData_dir = os.path.join(datasets_dir,'English Gigaword dataset')\n",
    "pickle_dir = os.path.join(datasets_dir,'pickle')\n",
    "folder_names = ['business','entertainment','politics','sport','tech']"
   ]
  },
  {
   "cell_type": "code",
   "execution_count": 76,
   "metadata": {
    "collapsed": true
   },
   "outputs": [],
   "source": [
    "total_heads  = []\n",
    "total_desc = []\n",
    "total_keywords = []"
   ]
  },
  {
   "cell_type": "code",
   "execution_count": 77,
   "metadata": {
    "collapsed": false
   },
   "outputs": [],
   "source": [
    "def processFile(currentContentType, fileName):\n",
    "    file = open(fileName,encoding = \"ISO-8859-1\")\n",
    "    contents = file.read()\n",
    "    head = contents.split('\\n')[0]\n",
    "    desc = contents[(len(head)):]\n",
    "    desc = desc.replace('\\n\\n','\\n').replace('\\n',' ! ')\n",
    "#     keywords = []\n",
    "#     keywords.append(currentContentType)\n",
    "    keywords = currentContentType\n",
    "    return head, desc, keywords"
   ]
  },
  {
   "cell_type": "code",
   "execution_count": 78,
   "metadata": {
    "collapsed": false
   },
   "outputs": [
    {
     "name": "stderr",
     "output_type": "stream",
     "text": [
      "  0%|          | 0/5 [00:00<?, ?it/s]\n",
      "  0%|          | 0/510 [00:00<?, ?it/s]\u001b[A\n",
      " 51%|█████     | 259/510 [00:00<00:00, 2588.68it/s]\u001b[A\n",
      " 20%|██        | 1/5 [00:00<00:00,  5.36it/s]3it/s]\u001b[A\n",
      "  0%|          | 0/386 [00:00<?, ?it/s]\u001b[A\n",
      " 75%|███████▌  | 291/386 [00:00<00:00, 2903.99it/s]\u001b[A\n",
      " 40%|████      | 2/5 [00:00<00:00,  5.80it/s]7it/s]\u001b[A\n",
      "  0%|          | 0/417 [00:00<?, ?it/s]\u001b[A\n",
      " 64%|██████▍   | 267/417 [00:00<00:00, 2665.58it/s]\u001b[A\n",
      " 60%|██████    | 3/5 [00:00<00:00,  5.97it/s]4it/s]\u001b[A\n",
      "  0%|          | 0/511 [00:00<?, ?it/s]\u001b[A\n",
      " 51%|█████▏    | 263/511 [00:00<00:00, 2623.10it/s]\u001b[A\n",
      " 80%|████████  | 4/5 [00:00<00:00,  5.70it/s]4it/s]\u001b[A\n",
      "  0%|          | 0/401 [00:00<?, ?it/s]\u001b[A\n",
      " 64%|██████▎   | 255/401 [00:00<00:00, 2542.68it/s]\u001b[A\n",
      "100%|██████████| 5/5 [00:00<00:00,  5.82it/s]7it/s]\u001b[A\n"
     ]
    }
   ],
   "source": [
    "for folderName in tqdm(folder_names):\n",
    "    current_dir = TRAIN_DIR = os.path.join(oldData_dir,folderName)\n",
    "    for imgName in tqdm(os.listdir(TRAIN_DIR)):\n",
    "        fullName = os.path.join(TRAIN_DIR,imgName)\n",
    "        head,desc,keywords = processFile(folderName,fullName)\n",
    "        total_heads.append(head)\n",
    "        total_desc.append(desc)\n",
    "        total_keywords.append(keywords)"
   ]
  },
  {
   "cell_type": "markdown",
   "metadata": {},
   "source": [
    "## Convert to dict using pandas"
   ]
  },
  {
   "cell_type": "code",
   "execution_count": 79,
   "metadata": {
    "collapsed": false
   },
   "outputs": [
    {
     "data": {
      "text/html": [
       "<div>\n",
       "<table border=\"1\" class=\"dataframe\">\n",
       "  <thead>\n",
       "    <tr style=\"text-align: right;\">\n",
       "      <th></th>\n",
       "      <th>desc</th>\n",
       "      <th>head</th>\n",
       "      <th>keywords</th>\n",
       "    </tr>\n",
       "  </thead>\n",
       "  <tbody>\n",
       "    <tr>\n",
       "      <th>0</th>\n",
       "      <td>! The UK manufacturing sector will continue t...</td>\n",
       "      <td>UK economy facing 'major risks'</td>\n",
       "      <td>business</td>\n",
       "    </tr>\n",
       "    <tr>\n",
       "      <th>1</th>\n",
       "      <td>! Climate change and the fight against Aids a...</td>\n",
       "      <td>Aids and climate top Davos agenda</td>\n",
       "      <td>business</td>\n",
       "    </tr>\n",
       "    <tr>\n",
       "      <th>2</th>\n",
       "      <td>! Shares in Europe's leading reinsurers and t...</td>\n",
       "      <td>Asian quake hits European shares</td>\n",
       "      <td>business</td>\n",
       "    </tr>\n",
       "    <tr>\n",
       "      <th>3</th>\n",
       "      <td>! Shares in India's largest power producer, N...</td>\n",
       "      <td>India power shares jump on debut</td>\n",
       "      <td>business</td>\n",
       "    </tr>\n",
       "    <tr>\n",
       "      <th>4</th>\n",
       "      <td>! Luxury goods group LVMH has sold its loss-m...</td>\n",
       "      <td>Lacroix label bought by US firm</td>\n",
       "      <td>business</td>\n",
       "    </tr>\n",
       "  </tbody>\n",
       "</table>\n",
       "</div>"
      ],
      "text/plain": [
       "                                                desc  \\\n",
       "0   ! The UK manufacturing sector will continue t...   \n",
       "1   ! Climate change and the fight against Aids a...   \n",
       "2   ! Shares in Europe's leading reinsurers and t...   \n",
       "3   ! Shares in India's largest power producer, N...   \n",
       "4   ! Luxury goods group LVMH has sold its loss-m...   \n",
       "\n",
       "                                head  keywords  \n",
       "0    UK economy facing 'major risks'  business  \n",
       "1  Aids and climate top Davos agenda  business  \n",
       "2   Asian quake hits European shares  business  \n",
       "3   India power shares jump on debut  business  \n",
       "4    Lacroix label bought by US firm  business  "
      ]
     },
     "execution_count": 79,
     "metadata": {},
     "output_type": "execute_result"
    }
   ],
   "source": [
    "data = pd.DataFrame({'head':total_heads,'desc':total_desc,'keywords':total_keywords})\n",
    "data.head()"
   ]
  },
  {
   "cell_type": "markdown",
   "metadata": {},
   "source": [
    "## save Pickle file"
   ]
  },
  {
   "cell_type": "code",
   "execution_count": 81,
   "metadata": {
    "collapsed": false
   },
   "outputs": [],
   "source": [
    "pickle_file_dir = os.path.join(pickle_dir,'data.pickle')\n",
    "pickle_out = open(pickle_file_dir,\"wb\")\n",
    "pickle.dump(data,pickle_out)\n",
    "pickle_out.close()"
   ]
  },
  {
   "cell_type": "code",
   "execution_count": null,
   "metadata": {
    "collapsed": true
   },
   "outputs": [],
   "source": []
  }
 ],
 "metadata": {
  "kernelspec": {
   "display_name": "Python 3",
   "language": "python",
   "name": "python3"
  },
  "language_info": {
   "codemirror_mode": {
    "name": "ipython",
    "version": 3
   },
   "file_extension": ".py",
   "mimetype": "text/x-python",
   "name": "python",
   "nbconvert_exporter": "python",
   "pygments_lexer": "ipython3",
   "version": "3.6.0"
  }
 },
 "nbformat": 4,
 "nbformat_minor": 2
}
